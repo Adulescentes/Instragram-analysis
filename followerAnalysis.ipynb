{
 "cells": [
  {
   "cell_type": "code",
   "execution_count": 1,
   "id": "2965574f",
   "metadata": {},
   "outputs": [],
   "source": [
    "from selenium import webdriver\n",
    "from selenium.webdriver.common.by import By\n",
    "from selenium.webdriver.edge.options import Options\n",
    "import time, json, os"
   ]
  },
  {
   "cell_type": "code",
   "execution_count": 2,
   "id": "d6791770",
   "metadata": {},
   "outputs": [],
   "source": [
    "email, password = \"\", \"\""
   ]
  },
  {
   "cell_type": "code",
   "execution_count": null,
   "id": "a61b2643",
   "metadata": {},
   "outputs": [],
   "source": [
    "chrome_options = Options()\n",
    "#chrome_options.add_argument(\"--headless\")  \n",
    "driver = webdriver.Edge(options=chrome_options)\n",
    "\n",
    "\n",
    "driver.get(\"https://www.instagram.com/\")\n",
    "time.sleep(1)\n",
    "\n",
    "idObject = driver.find_element(By.XPATH, '//*[@id=\"loginForm\"]/div/div[1]/div/label/input')\n",
    "idObject.send_keys(email)\n",
    "passObject = driver.find_element(By.XPATH, '//*[@id=\"loginForm\"]/div/div[2]/div/label/input')\n",
    "passObject.send_keys(password)\n",
    "\n",
    "driver.find_element(By.XPATH, '//*[@id=\"loginForm\"]/div/div[3]/button').click()\n",
    "\n",
    "\n",
    "time.sleep(5)\n",
    "usertoExamine = \"\" # user id name\n",
    "\n",
    "time.sleep(10)\n",
    "print(\"Logged IN\")"
   ]
  },
  {
   "cell_type": "code",
   "execution_count": 4,
   "id": "ce477f12",
   "metadata": {},
   "outputs": [],
   "source": [
    "\n",
    "driver.get(f\"https://www.instagram.com/{usertoExamine}/\")\n",
    "time.sleep(5)\n",
    "\n",
    "element = driver.find_elements(By.CSS_SELECTOR, \"span.html-span.xdj266r.x11i5rnm.xat24cr.x1mh8g0r.xexx8yu.x4uap5.x18d9i69.xkhd6sd.x1hl2dhg.x16tdsg8.x1vvkbs\")\n",
    "\n",
    "element = [int(x.text) for x in element]\n",
    "NoPost = element[0]\n",
    "NoFler = element[1]\n",
    "NoFlwin = element[2]\n",
    "\n",
    "driver.get(f\"https://www.instagram.com/{usertoExamine}/followers/\")"
   ]
  },
  {
   "cell_type": "code",
   "execution_count": 5,
   "id": "de4836f6",
   "metadata": {},
   "outputs": [],
   "source": [
    "href_value = f\"/{usertoExamine}/followers/\"\n",
    "element = driver.find_element(By.XPATH, f'//a[@href=\"{href_value}\"]')\n",
    "element.click()"
   ]
  },
  {
   "cell_type": "code",
   "execution_count": 6,
   "id": "49c30eb5",
   "metadata": {},
   "outputs": [],
   "source": [
    "mainBlockText = \"div.xyi19xy\"\n",
    "followersText = \".x1dm5mii\"\n",
    "elements, mainBlock = None, None\n",
    "\n",
    "mainBlock = driver.find_element(By.CSS_SELECTOR, mainBlockText)\n",
    "elements = mainBlock.find_elements(By.CSS_SELECTOR, followersText)\n"
   ]
  },
  {
   "cell_type": "code",
   "execution_count": null,
   "id": "ef3c00f4",
   "metadata": {},
   "outputs": [],
   "source": [
    "print(\"Followers Started\")\n",
    "lastCount = 0\n",
    "exitCount = 0\n",
    "while 1:\n",
    "    if lastCount == len(elements):\n",
    "        exitCount += 1\n",
    "    else:\n",
    "        exitCount = 0\n",
    "\n",
    "    if exitCount == 10:\n",
    "        break\n",
    "\n",
    "    lastCount = len(elements)\n",
    "\n",
    "    scroll_script = f\"arguments[0].scrollBy(0,1500);\"\n",
    "    driver.execute_script(scroll_script, mainBlock)\n",
    "    time.sleep(1)\n",
    "\n",
    "    mainBlock = driver.find_element(By.CSS_SELECTOR, mainBlockText)\n",
    "    elements = mainBlock.find_elements(By.CSS_SELECTOR, followersText)\n",
    "\n",
    "    print(len(elements), end=\"\\r\")"
   ]
  },
  {
   "cell_type": "code",
   "execution_count": null,
   "id": "f8c79373",
   "metadata": {},
   "outputs": [],
   "source": [
    "print(\"\\nFollowers Finished\")\n",
    "idList = [x.text.split(\"\\n\")[0] for x in elements]\n",
    "\n",
    "new_elements = mainBlock.find_elements(By.CSS_SELECTOR, \"span.x1lliihq x193iq5w x6ikm8r x10wlt62 xlyipyv xuxw1ft\".replace(\" \", \".\"))\n",
    "nameList = [x.text for x in new_elements]                   \n",
    "\n",
    "followerDict = {}\n",
    "for i in range(len(idList)):\n",
    "    followerDict[idList[i]] = nameList[i]"
   ]
  },
  {
   "cell_type": "code",
   "execution_count": 9,
   "id": "2012822e",
   "metadata": {},
   "outputs": [],
   "source": [
    "driver.get(f\"https://www.instagram.com/{usertoExamine}/following/\")"
   ]
  },
  {
   "cell_type": "code",
   "execution_count": 10,
   "id": "f3b9c0f0",
   "metadata": {},
   "outputs": [],
   "source": [
    "href_value = f\"/{usertoExamine}/following/\"\n",
    "element = driver.find_element(By.XPATH, f'//a[@href=\"{href_value}\"]')\n",
    "element.click()"
   ]
  },
  {
   "cell_type": "code",
   "execution_count": 11,
   "id": "5f694321",
   "metadata": {},
   "outputs": [],
   "source": [
    "mainBlock = driver.find_element(By.CSS_SELECTOR, mainBlockText)\n",
    "elements = mainBlock.find_elements(By.CSS_SELECTOR, followersText)"
   ]
  },
  {
   "cell_type": "code",
   "execution_count": null,
   "id": "5619b31c",
   "metadata": {},
   "outputs": [],
   "source": [
    "print(\"Followings Started\")\n",
    "lastCount = 0\n",
    "exitCount = 0\n",
    "while 1:\n",
    "    if lastCount == len(elements):\n",
    "        exitCount += 1\n",
    "    else:\n",
    "        exitCount = 0\n",
    "\n",
    "    if exitCount == 10:\n",
    "        break\n",
    "    lastCount = len(elements)\n",
    "\n",
    "    scroll_script = f\"arguments[0].scrollBy(0,1500);\"\n",
    "    driver.execute_script(scroll_script, mainBlock)\n",
    "    time.sleep(1)\n",
    "\n",
    "    mainBlock = driver.find_element(By.CSS_SELECTOR, mainBlockText)\n",
    "    elements = mainBlock.find_elements(By.CSS_SELECTOR, followersText)\n",
    "    print(len(elements), end=\"\\r\")\n",
    "\n",
    "print(\"\\nFollowings Finished\")"
   ]
  },
  {
   "cell_type": "code",
   "execution_count": 13,
   "id": "bd165a93",
   "metadata": {},
   "outputs": [],
   "source": [
    "idList = [x.text.split(\"\\n\")[0] for x in elements]\n",
    "\n",
    "new_elements = mainBlock.find_elements(By.CSS_SELECTOR, \"span.x1lliihq.x193iq5w.x6ikm8r.x10wlt62.xlyipyv.xuxw1ft\")\n",
    "nameList = [x.text for x in new_elements]\n",
    "\n",
    "driver.quit()"
   ]
  },
  {
   "cell_type": "code",
   "execution_count": 14,
   "id": "8a5a9d89",
   "metadata": {},
   "outputs": [],
   "source": [
    "followingDict = {}\n",
    "for i in range(len(idList)):\n",
    "    followingDict[idList[i]] = nameList[i]\n",
    "\n",
    "def difference(dict1, dict2):\n",
    "    diff = {}\n",
    "    for key, value in dict1.items():\n",
    "        if key not in dict2 or dict2[key] != value:\n",
    "            diff[key] = value\n",
    "    return diff\n",
    "\n",
    "nFollowingBack = difference(followerDict, followingDict)\n",
    "nFollowedBack = difference(followingDict, followerDict)"
   ]
  },
  {
   "cell_type": "code",
   "execution_count": 16,
   "id": "e1801878",
   "metadata": {},
   "outputs": [],
   "source": [
    "#print(json.dumps(nFollowedBack, indent=4))\n",
    "result = {\n",
    "        \"followers\": followerDict,\n",
    "        \"numberOfFollowers\": f\"{len(followerDict)}/{NoFler}\",\n",
    "        \"following\": followingDict,\n",
    "        \"numberOfFollowings\":f\"{len(followingDict)}/{NoFlwin}\",\n",
    "        \"youreNotFollowingBack\": nFollowingBack,\n",
    "        \"youreNotFollowedBack\": nFollowedBack\n",
    "    }\n"
   ]
  },
  {
   "cell_type": "code",
   "execution_count": 17,
   "id": "29b9c8c6",
   "metadata": {},
   "outputs": [],
   "source": [
    "save_path = \"\"\n",
    "with open(os.path.join(save_path, f\"{usertoExamine}.json\"), \"w+\") as f:\n",
    "    json.dump(result, f, indent=4)"
   ]
  },
  {
   "cell_type": "code",
   "execution_count": null,
   "id": "33bff5d7",
   "metadata": {},
   "outputs": [],
   "source": []
  }
 ],
 "metadata": {
  "kernelspec": {
   "display_name": "Python 3",
   "language": "python",
   "name": "python3"
  },
  "language_info": {
   "codemirror_mode": {
    "name": "ipython",
    "version": 3
   },
   "file_extension": ".py",
   "mimetype": "text/x-python",
   "name": "python",
   "nbconvert_exporter": "python",
   "pygments_lexer": "ipython3",
   "version": "3.10.5"
  }
 },
 "nbformat": 4,
 "nbformat_minor": 5
}
