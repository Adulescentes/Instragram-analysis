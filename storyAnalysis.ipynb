{
 "cells": [
  {
   "cell_type": "code",
   "execution_count": 1,
   "metadata": {},
   "outputs": [],
   "source": [
    "from selenium import webdriver\n",
    "from selenium.webdriver.common.by import By\n",
    "from selenium.webdriver.edge.options import Options\n",
    "import time, json, os"
   ]
  },
  {
   "cell_type": "code",
   "execution_count": 2,
   "metadata": {},
   "outputs": [],
   "source": [
    "email, password = \"\", \"\""
   ]
  },
  {
   "cell_type": "code",
   "execution_count": null,
   "metadata": {},
   "outputs": [],
   "source": [
    "chrome_options = Options()\n",
    "#chrome_options.add_argument(\"--headless\")  \n",
    "driver = webdriver.Edge(options=chrome_options)\n",
    "\n",
    "\n",
    "driver.get(\"https://www.instagram.com/\")\n",
    "time.sleep(1)\n",
    "\n",
    "idObject = driver.find_element(By.XPATH, '//*[@id=\"loginForm\"]/div/div[1]/div/label/input')\n",
    "idObject.send_keys(email)\n",
    "passObject = driver.find_element(By.XPATH, '//*[@id=\"loginForm\"]/div/div[2]/div/label/input')\n",
    "passObject.send_keys(password)\n",
    "\n",
    "driver.find_element(By.XPATH, '//*[@id=\"loginForm\"]/div/div[3]/button').click()\n",
    "\n",
    "\n",
    "time.sleep(5)\n",
    "usertoExamine = \"\"\n",
    "\n",
    "time.sleep(10)\n",
    "print(\"Logged IN\")"
   ]
  },
  {
   "cell_type": "code",
   "execution_count": 4,
   "metadata": {},
   "outputs": [],
   "source": [
    "driver.get(f\"https://www.instagram.com/stories/{usertoExamine}/\")\n",
    "time.sleep(5)"
   ]
  },
  {
   "cell_type": "code",
   "execution_count": 5,
   "metadata": {},
   "outputs": [],
   "source": [
    "# start_button = driver.find_element(By.CSS_SELECTOR, \"svg[aria-label='Oynat']\")\n",
    "# start_button.click()"
   ]
  },
  {
   "cell_type": "code",
   "execution_count": 7,
   "metadata": {},
   "outputs": [],
   "source": [
    "stop_button = driver.find_element(By.CSS_SELECTOR, \"svg[aria-label='Durdur']\")\n",
    "stop_button.click()"
   ]
  },
  {
   "cell_type": "code",
   "execution_count": 8,
   "metadata": {},
   "outputs": [],
   "source": [
    "number_of_spectators = int(driver.find_element(By.CLASS_NAME, \"html-span xdj266r x11i5rnm xat24cr x1mh8g0r xexx8yu x4uap5 x18d9i69 xkhd6sd x1hl2dhg x16tdsg8 x1vvkbs\".replace(\" \", \".\")).text)"
   ]
  },
  {
   "cell_type": "code",
   "execution_count": 9,
   "metadata": {},
   "outputs": [],
   "source": [
    "seen_button = driver.find_element(By.CLASS_NAME, \"xzueoph\")\n",
    "seen_button.click()"
   ]
  },
  {
   "cell_type": "code",
   "execution_count": 10,
   "metadata": {},
   "outputs": [],
   "source": [
    "def seperate(element):\n",
    "    return [\n",
    "        element.find_element(By.CLASS_NAME, \"x9f619 xjbqb8w x78zum5 x168nmei x13lgxp2 x5pf9jr xo71vjh x1uhb9sk x1plvlek xryxfnj x1c4vz4f x2lah0s x1q0g3np xqjyukv x6s0dn4 x1oa3qoh\".replace(\" \", \".\")).text,\n",
    "        element.find_element(By.CLASS_NAME, \"x1lliihq x193iq5w x6ikm8r x10wlt62 xlyipyv xuxw1ft\".replace(\" \", \".\")).text\n",
    "    ]"
   ]
  },
  {
   "cell_type": "code",
   "execution_count": 11,
   "metadata": {},
   "outputs": [],
   "source": [
    "table = driver.find_element(By.XPATH, \"//div[contains(@style, 'height: 356px; overflow: hidden auto;')]\")"
   ]
  },
  {
   "cell_type": "code",
   "execution_count": 12,
   "metadata": {},
   "outputs": [],
   "source": [
    "all_info = {}\n",
    "counter = 0\n",
    "last_length = 0"
   ]
  },
  {
   "cell_type": "code",
   "execution_count": 13,
   "metadata": {},
   "outputs": [],
   "source": [
    "while len(all_info) < number_of_spectators:\n",
    "    try:\n",
    "        spectators = driver.find_elements(By.CLASS_NAME, \"x1dm5mii x16mil14 xiojian x1yutycm x1lliihq x193iq5w xh8yej3\".replace(\" \", \".\"))\n",
    "        for i in spectators:\n",
    "            rt = seperate(i)\n",
    "            all_info[rt[0]] = rt[1]\n",
    "\n",
    "        driver.execute_script(\"arguments[0].scrollBy(0, 900);\", table)\n",
    "    except:\n",
    "        time.sleep(1)\n",
    "\n",
    "    if len(all_info) != last_length:\n",
    "        last_length = len(all_info)\n",
    "        counter = 0\n",
    "    else:\n",
    "        counter += 1\n",
    "\n",
    "    if counter == 3:\n",
    "        print(\"Loop finished by counter break\")\n",
    "        break"
   ]
  },
  {
   "cell_type": "code",
   "execution_count": null,
   "metadata": {},
   "outputs": [],
   "source": [
    "save_path = \"\"\n",
    "\n",
    "with open(os.path.join(save_path, f\"{usertoExamine}.json\"), \"w+\") as f:\n",
    "    json.dump(all_info, f, indent=4)"
   ]
  }
 ],
 "metadata": {
  "kernelspec": {
   "display_name": "Python 3",
   "language": "python",
   "name": "python3"
  },
  "language_info": {
   "codemirror_mode": {
    "name": "ipython",
    "version": 3
   },
   "file_extension": ".py",
   "mimetype": "text/x-python",
   "name": "python",
   "nbconvert_exporter": "python",
   "pygments_lexer": "ipython3",
   "version": "3.10.5"
  }
 },
 "nbformat": 4,
 "nbformat_minor": 2
}
